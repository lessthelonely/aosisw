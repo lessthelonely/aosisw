{
 "cells": [
  {
   "cell_type": "code",
   "execution_count": null,
   "metadata": {},
   "outputs": [],
   "source": [
    "import pandas as pd\n",
    "\n",
    "# Load the uploaded CSV file to inspect its contents\n",
    "file_path = '/mnt/data/data.csv'\n",
    "data = pd.read_csv(file_path)\n",
    "\n",
    "# Display the first few rows of the file to understand its structure\n",
    "data.head()\n"
   ]
  },
  {
   "cell_type": "code",
   "execution_count": 20,
   "metadata": {},
   "outputs": [
    {
     "name": "stdout",
     "output_type": "stream",
     "text": [
      "Theme\n",
      "Application of Gamification                                   14\n",
      "Difficulty in Gamification                                    11\n",
      "Important Factors of Software Engineering and its Teaching     9\n",
      "Pitfalls of Gamification                                       7\n",
      "Accessibility in Gamification                                  4\n",
      "Name: count, dtype: int64\n"
     ]
    }
   ],
   "source": [
    "import pandas as pd  # It's good practice to use standard aliases\n",
    "\n",
    "# Load the CSV\n",
    "csv = pd.read_csv('data.csv', encoding='cp1252')\n",
    "\n",
    "# Split the \"Themes\" column by \" / \", explode the resulting lists into individual rows\n",
    "themes_expanded = csv['Theme'].str.split(' / ').explode()\n",
    "\n",
    "# Count the occurrences of each individual value and export to CSV\n",
    "value_counts = themes_expanded.value_counts()\n",
    "value_counts.to_csv('theme_value_counts.csv', header=['Count'])\n",
    "\n",
    "# Print to console if needed\n",
    "print(value_counts)\n"
   ]
  }
 ],
 "metadata": {
  "kernelspec": {
   "display_name": "Python 3",
   "language": "python",
   "name": "python3"
  },
  "language_info": {
   "codemirror_mode": {
    "name": "ipython",
    "version": 3
   },
   "file_extension": ".py",
   "mimetype": "text/x-python",
   "name": "python",
   "nbconvert_exporter": "python",
   "pygments_lexer": "ipython3",
   "version": "3.12.0"
  }
 },
 "nbformat": 4,
 "nbformat_minor": 2
}
